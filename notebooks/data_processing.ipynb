{
 "cells": [
  {
   "cell_type": "markdown",
   "id": "6910d1ba-9460-4a70-98cb-5e8030074566",
   "metadata": {},
   "source": [
    "## Data Processing\n",
    "\n",
    "In this notebook we will load and process all of the taxi data from 2009 to 2025.\n",
    "\n",
    "The data is stored in data/raw as parquets.\n",
    "\n",
    "It will be saved to data/processed as both parquets and csvs. \n",
    "\n",
    "We will save both the full dataset for each year, as well as the data for JFK and two time series for each year. One for a daily pickup taxi count at JFK and one for an hourly pickup taxi count at JFK (by day by hour).\n",
    "\n",
    "We use our own process_taxi_data function that can be found in src/ This function will also perform some basic data cleaning as well.\n"
   ]
  },
  {
   "cell_type": "code",
   "execution_count": 1,
   "id": "1bbbbebd-bb0d-4b81-ae4d-9aeda7a78e60",
   "metadata": {},
   "outputs": [],
   "source": [
    "from jfk_taxis import process_taxi_data, taxi_data_visuals\n"
   ]
  },
  {
   "cell_type": "code",
   "execution_count": null,
   "id": "082cccda-a8af-499b-9f30-0f71683a2695",
   "metadata": {},
   "outputs": [
    {
     "data": {
      "application/vnd.jupyter.widget-view+json": {
       "model_id": "4197f2f280a34893a2714529b4cceb0b",
       "version_major": 2,
       "version_minor": 0
      },
      "text/plain": [
       "Year:   0%|          | 0/1 [00:00<?, ?it/s]"
      ]
     },
     "metadata": {},
     "output_type": "display_data"
    },
    {
     "name": "stdout",
     "output_type": "stream",
     "text": [
      "updated fun\n"
     ]
    },
    {
     "data": {
      "application/vnd.jupyter.widget-view+json": {
       "model_id": "5b0914c0a0bf4fec9eb050d405c36804",
       "version_major": 2,
       "version_minor": 0
      },
      "text/plain": [
       "Download files: : 0it [00:00, ?it/s]"
      ]
     },
     "metadata": {},
     "output_type": "display_data"
    }
   ],
   "source": [
    "# We do some inital data exploration on each year just to get a feel for the data\n",
    "# One of the interesting things in the plot is that clearly we have data that is not just from 2021, this will be cleaned up in process_taxi_data \n",
    "# which you can see inside src/jfk_taxis/data_processing.py\n",
    "\n",
    "# Select the years to perfrom some basic EDA on, this can take a long time as each year has approx 30 million rows which is a fair amount for pandas to handle\n",
    "# so its recommend exploring only a few years\n",
    "years = [2009]\n",
    "\n",
    "taxi_data_visuals(years)"
   ]
  },
  {
   "cell_type": "code",
   "execution_count": 3,
   "id": "4842890b-d5eb-4af5-a86c-89caecdf234e",
   "metadata": {},
   "outputs": [
    {
     "data": {
      "application/vnd.jupyter.widget-view+json": {
       "model_id": "9ca2c5ed69b3470eb9fcef06483f672f",
       "version_major": 2,
       "version_minor": 0
      },
      "text/plain": [
       "Processing years:   0%|          | 0/1 [00:00<?, ?it/s]"
      ]
     },
     "metadata": {},
     "output_type": "display_data"
    },
    {
     "data": {
      "application/vnd.jupyter.widget-view+json": {
       "model_id": "0005bfc40f414c83bdce23dece612751",
       "version_major": 2,
       "version_minor": 0
      },
      "text/plain": [
       "  0%|          | 0/5 [00:00<?, ?it/s]"
      ]
     },
     "metadata": {},
     "output_type": "display_data"
    },
    {
     "data": {
      "application/vnd.jupyter.widget-view+json": {
       "model_id": "33a607a0769b47a1989dea843b86c170",
       "version_major": 2,
       "version_minor": 0
      },
      "text/plain": [
       "Download files: : 0it [00:00, ?it/s]"
      ]
     },
     "metadata": {},
     "output_type": "display_data"
    }
   ],
   "source": [
    "# We provide a list of years of data to process\n",
    "years = [2022]\n",
    "\n",
    "# We provide a list of features we want time series for\n",
    "features = [\"daily\", \"hour\"]\n",
    "\n",
    "# Process the data\n",
    "process_taxi_data(years, features)"
   ]
  },
  {
   "cell_type": "code",
   "execution_count": null,
   "id": "7529482d-e850-4d97-8e44-273ff672dbcb",
   "metadata": {},
   "outputs": [],
   "source": []
  }
 ],
 "metadata": {
  "kernelspec": {
   "display_name": "Python (datasci)",
   "language": "python",
   "name": "datasci"
  },
  "language_info": {
   "codemirror_mode": {
    "name": "ipython",
    "version": 3
   },
   "file_extension": ".py",
   "mimetype": "text/x-python",
   "name": "python",
   "nbconvert_exporter": "python",
   "pygments_lexer": "ipython3",
   "version": "3.11.13"
  }
 },
 "nbformat": 4,
 "nbformat_minor": 5
}
