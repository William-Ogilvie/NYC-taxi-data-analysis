{
 "cells": [
  {
   "cell_type": "markdown",
   "id": "6910d1ba-9460-4a70-98cb-5e8030074566",
   "metadata": {},
   "source": [
    "## Data Processing\n",
    "\n",
    "In this notebook we will load and process all of the taxi data from 2011 to 2025.\n",
    "\n",
    "The data is stored in data/raw as parquets.\n",
    "\n",
    "It will be saved to data/processed as both parquets and csvs. \n",
    "\n",
    "We will save both the full dataset for each year, as well as the data for JFK and two time series for each year. One for a daily pickup taxi count at JFK and one for an hourly pickup taxi count at JFK (by day by hour).\n",
    "\n",
    "We use our own process_taxi_data function that can be found in src/ This function will also perform some basic data cleaning as well.\n"
   ]
  },
  {
   "cell_type": "code",
   "execution_count": 2,
   "id": "1bbbbebd-bb0d-4b81-ae4d-9aeda7a78e60",
   "metadata": {},
   "outputs": [],
   "source": [
    "from jfk_taxis import process_taxi_data, taxi_data_visuals, ts_plots, combine_ts, plot_full_ts\n",
    "import pandas as pd"
   ]
  },
  {
   "cell_type": "code",
   "execution_count": 3,
   "id": "082cccda-a8af-499b-9f30-0f71683a2695",
   "metadata": {},
   "outputs": [],
   "source": [
    "# We do some inital data exploration on each year just to get a feel for the data, we only select columns \"tpep_pickup_datetime\" and \"PULocationID\" as otherwise we are trying to load approx 1.2GB of data for earlier years like 2011. \n",
    "# One of the interesting things in the plot is that for 2021 say we clearly have data that is not just from 2021, this will be cleaned up in process_taxi_data \n",
    "# which you can see inside src/jfk_taxis/data_processing.py\n",
    "\n",
    "# Select the years to perfrom some basic EDA on, this can take a long time. Particularly with earlier years like 2011 as they have approx 170M rows which is a fair amount for pandas to handle\n",
    "# so its recommend exploring only a few years. The reason for there being a lot more taxi trips in earlier years is likely due to things like Uber and the introduction of green taxis in NYC.\n",
    "\n",
    "# The other interesting thing is 2009 and 2011 are both using lat long data so have been excluded for now. \n",
    "\n",
    "# Years to perfrom some basic EDA on, the daily trip count is for the whole of NYC not just JFK airport\n",
    "years = [2011, 2015, 2020, 2025]\n",
    "\n",
    "taxi_data_visuals(years)"
   ]
  },
  {
   "cell_type": "code",
   "execution_count": 3,
   "id": "4842890b-d5eb-4af5-a86c-89caecdf234e",
   "metadata": {},
   "outputs": [
    {
     "data": {
      "application/vnd.jupyter.widget-view+json": {
       "model_id": "8d7d5d2d64bf40f488fa2a4bb0e6c5ac",
       "version_major": 2,
       "version_minor": 0
      },
      "text/plain": [
       "Processing years:   0%|          | 0/15 [00:00<?, ?it/s]"
      ]
     },
     "metadata": {},
     "output_type": "display_data"
    },
    {
     "data": {
      "application/vnd.jupyter.widget-view+json": {
       "model_id": "b48d76805600473ebe7b7d04e887d9fe",
       "version_major": 2,
       "version_minor": 0
      },
      "text/plain": [
       "  0%|          | 0/5 [00:00<?, ?it/s]"
      ]
     },
     "metadata": {},
     "output_type": "display_data"
    },
    {
     "data": {
      "application/vnd.jupyter.widget-view+json": {
       "model_id": "019488962a654bcf901e29a2f193c4bc",
       "version_major": 2,
       "version_minor": 0
      },
      "text/plain": [
       "Download files: : 0it [00:00, ?it/s]"
      ]
     },
     "metadata": {},
     "output_type": "display_data"
    },
    {
     "data": {
      "application/vnd.jupyter.widget-view+json": {
       "model_id": "b5135e2d5dd946e78ee5537a5c4549c6",
       "version_major": 2,
       "version_minor": 0
      },
      "text/plain": [
       "  0%|          | 0/5 [00:00<?, ?it/s]"
      ]
     },
     "metadata": {},
     "output_type": "display_data"
    },
    {
     "data": {
      "application/vnd.jupyter.widget-view+json": {
       "model_id": "b09e99b75cb84afbbca833eb0448c5ef",
       "version_major": 2,
       "version_minor": 0
      },
      "text/plain": [
       "Download files: : 0it [00:00, ?it/s]"
      ]
     },
     "metadata": {},
     "output_type": "display_data"
    },
    {
     "data": {
      "application/vnd.jupyter.widget-view+json": {
       "model_id": "0c263771bea94cc0838bdf2d65098ebd",
       "version_major": 2,
       "version_minor": 0
      },
      "text/plain": [
       "  0%|          | 0/5 [00:00<?, ?it/s]"
      ]
     },
     "metadata": {},
     "output_type": "display_data"
    },
    {
     "data": {
      "application/vnd.jupyter.widget-view+json": {
       "model_id": "3dc42201e7994261b52a9f3e9e4ef324",
       "version_major": 2,
       "version_minor": 0
      },
      "text/plain": [
       "Download files: : 0it [00:00, ?it/s]"
      ]
     },
     "metadata": {},
     "output_type": "display_data"
    },
    {
     "data": {
      "application/vnd.jupyter.widget-view+json": {
       "model_id": "87174775f69d4e58b94816333fb111fb",
       "version_major": 2,
       "version_minor": 0
      },
      "text/plain": [
       "  0%|          | 0/5 [00:00<?, ?it/s]"
      ]
     },
     "metadata": {},
     "output_type": "display_data"
    },
    {
     "data": {
      "application/vnd.jupyter.widget-view+json": {
       "model_id": "910de4c110884c719afdb83527cef7a2",
       "version_major": 2,
       "version_minor": 0
      },
      "text/plain": [
       "Download files: : 0it [00:00, ?it/s]"
      ]
     },
     "metadata": {},
     "output_type": "display_data"
    },
    {
     "data": {
      "application/vnd.jupyter.widget-view+json": {
       "model_id": "e8c4d9fab1af4ca89387e480fc17c46a",
       "version_major": 2,
       "version_minor": 0
      },
      "text/plain": [
       "  0%|          | 0/5 [00:00<?, ?it/s]"
      ]
     },
     "metadata": {},
     "output_type": "display_data"
    },
    {
     "data": {
      "application/vnd.jupyter.widget-view+json": {
       "model_id": "c2a7a506932c4e38826aa76be57eaed2",
       "version_major": 2,
       "version_minor": 0
      },
      "text/plain": [
       "Download files: : 0it [00:00, ?it/s]"
      ]
     },
     "metadata": {},
     "output_type": "display_data"
    },
    {
     "data": {
      "application/vnd.jupyter.widget-view+json": {
       "model_id": "96d577422b92453d850d3ffcc23dca2a",
       "version_major": 2,
       "version_minor": 0
      },
      "text/plain": [
       "  0%|          | 0/5 [00:00<?, ?it/s]"
      ]
     },
     "metadata": {},
     "output_type": "display_data"
    },
    {
     "data": {
      "application/vnd.jupyter.widget-view+json": {
       "model_id": "4c62a64f6f6b48749531c9d2c81cc826",
       "version_major": 2,
       "version_minor": 0
      },
      "text/plain": [
       "Download files: : 0it [00:00, ?it/s]"
      ]
     },
     "metadata": {},
     "output_type": "display_data"
    },
    {
     "data": {
      "application/vnd.jupyter.widget-view+json": {
       "model_id": "3163d05116b0422ebc1e9f588566cbbb",
       "version_major": 2,
       "version_minor": 0
      },
      "text/plain": [
       "  0%|          | 0/5 [00:00<?, ?it/s]"
      ]
     },
     "metadata": {},
     "output_type": "display_data"
    },
    {
     "data": {
      "application/vnd.jupyter.widget-view+json": {
       "model_id": "dccc4e0de1a2454ba099ef04222fb3c5",
       "version_major": 2,
       "version_minor": 0
      },
      "text/plain": [
       "Download files: : 0it [00:00, ?it/s]"
      ]
     },
     "metadata": {},
     "output_type": "display_data"
    },
    {
     "data": {
      "application/vnd.jupyter.widget-view+json": {
       "model_id": "45907487e38e4aa4abcf61e63a7d8565",
       "version_major": 2,
       "version_minor": 0
      },
      "text/plain": [
       "  0%|          | 0/5 [00:00<?, ?it/s]"
      ]
     },
     "metadata": {},
     "output_type": "display_data"
    },
    {
     "data": {
      "application/vnd.jupyter.widget-view+json": {
       "model_id": "b04b7c1422a841adb41c79ba795c5893",
       "version_major": 2,
       "version_minor": 0
      },
      "text/plain": [
       "Download files: : 0it [00:00, ?it/s]"
      ]
     },
     "metadata": {},
     "output_type": "display_data"
    },
    {
     "data": {
      "application/vnd.jupyter.widget-view+json": {
       "model_id": "3702e637b59745dd99ef74563fbd5e89",
       "version_major": 2,
       "version_minor": 0
      },
      "text/plain": [
       "  0%|          | 0/5 [00:00<?, ?it/s]"
      ]
     },
     "metadata": {},
     "output_type": "display_data"
    },
    {
     "data": {
      "application/vnd.jupyter.widget-view+json": {
       "model_id": "73885f92879a4c7eaf9cd78ff46f290e",
       "version_major": 2,
       "version_minor": 0
      },
      "text/plain": [
       "Download files: : 0it [00:00, ?it/s]"
      ]
     },
     "metadata": {},
     "output_type": "display_data"
    },
    {
     "data": {
      "application/vnd.jupyter.widget-view+json": {
       "model_id": "56ceea412367437cb204204e6fcd85b3",
       "version_major": 2,
       "version_minor": 0
      },
      "text/plain": [
       "  0%|          | 0/5 [00:00<?, ?it/s]"
      ]
     },
     "metadata": {},
     "output_type": "display_data"
    },
    {
     "data": {
      "application/vnd.jupyter.widget-view+json": {
       "model_id": "cf4c1856ecd646fcbbada633300a527a",
       "version_major": 2,
       "version_minor": 0
      },
      "text/plain": [
       "Download files: : 0it [00:00, ?it/s]"
      ]
     },
     "metadata": {},
     "output_type": "display_data"
    },
    {
     "data": {
      "application/vnd.jupyter.widget-view+json": {
       "model_id": "8b20746411644e829ca1263162240bb7",
       "version_major": 2,
       "version_minor": 0
      },
      "text/plain": [
       "  0%|          | 0/5 [00:00<?, ?it/s]"
      ]
     },
     "metadata": {},
     "output_type": "display_data"
    },
    {
     "data": {
      "application/vnd.jupyter.widget-view+json": {
       "model_id": "63257944abd8429d98ef22603b931c47",
       "version_major": 2,
       "version_minor": 0
      },
      "text/plain": [
       "Download files: : 0it [00:00, ?it/s]"
      ]
     },
     "metadata": {},
     "output_type": "display_data"
    },
    {
     "data": {
      "application/vnd.jupyter.widget-view+json": {
       "model_id": "2d5d2c04837c434ca8dc5376487f59b2",
       "version_major": 2,
       "version_minor": 0
      },
      "text/plain": [
       "  0%|          | 0/5 [00:00<?, ?it/s]"
      ]
     },
     "metadata": {},
     "output_type": "display_data"
    },
    {
     "data": {
      "application/vnd.jupyter.widget-view+json": {
       "model_id": "31630bfa03ea460091c36535d1ef76a9",
       "version_major": 2,
       "version_minor": 0
      },
      "text/plain": [
       "Download files: : 0it [00:00, ?it/s]"
      ]
     },
     "metadata": {},
     "output_type": "display_data"
    },
    {
     "data": {
      "application/vnd.jupyter.widget-view+json": {
       "model_id": "ebff1cfa040f4fafae63d6aff38f4c60",
       "version_major": 2,
       "version_minor": 0
      },
      "text/plain": [
       "  0%|          | 0/5 [00:00<?, ?it/s]"
      ]
     },
     "metadata": {},
     "output_type": "display_data"
    },
    {
     "data": {
      "application/vnd.jupyter.widget-view+json": {
       "model_id": "d191b058ad6841ec8f32ceab99190d46",
       "version_major": 2,
       "version_minor": 0
      },
      "text/plain": [
       "Download files: : 0it [00:00, ?it/s]"
      ]
     },
     "metadata": {},
     "output_type": "display_data"
    },
    {
     "data": {
      "application/vnd.jupyter.widget-view+json": {
       "model_id": "58615b21aa514a70af9afd2f15e90fb6",
       "version_major": 2,
       "version_minor": 0
      },
      "text/plain": [
       "  0%|          | 0/5 [00:00<?, ?it/s]"
      ]
     },
     "metadata": {},
     "output_type": "display_data"
    },
    {
     "data": {
      "application/vnd.jupyter.widget-view+json": {
       "model_id": "d4649e5a20094fbaaf84df30962630c3",
       "version_major": 2,
       "version_minor": 0
      },
      "text/plain": [
       "Download files: : 0it [00:00, ?it/s]"
      ]
     },
     "metadata": {},
     "output_type": "display_data"
    },
    {
     "data": {
      "application/vnd.jupyter.widget-view+json": {
       "model_id": "52f5f4c8b626401fa9c8524cdc98a085",
       "version_major": 2,
       "version_minor": 0
      },
      "text/plain": [
       "  0%|          | 0/5 [00:00<?, ?it/s]"
      ]
     },
     "metadata": {},
     "output_type": "display_data"
    },
    {
     "data": {
      "application/vnd.jupyter.widget-view+json": {
       "model_id": "1298fee402b046b39d91cbd2353e5918",
       "version_major": 2,
       "version_minor": 0
      },
      "text/plain": [
       "Download files: : 0it [00:00, ?it/s]"
      ]
     },
     "metadata": {},
     "output_type": "display_data"
    }
   ],
   "source": [
    "# We provide a list of years of data to process\n",
    "years = list(range(2011, 2026))\n",
    "\n",
    "# We provide a list of features we want time series for\n",
    "features = [\"daily\", \"hour\"]\n",
    "\n",
    "# Process the data\n",
    "process_taxi_data(years, features)"
   ]
  },
  {
   "cell_type": "code",
   "execution_count": 5,
   "id": "8446c0cc-24e8-49cf-b3b7-2088753fd103",
   "metadata": {},
   "outputs": [],
   "source": [
    "# We combine the years into two single csvs:\n",
    "combine_ts(years)"
   ]
  },
  {
   "cell_type": "code",
   "execution_count": 6,
   "id": "69380e89-d778-4403-a355-b1bef0e80795",
   "metadata": {},
   "outputs": [
    {
     "data": {
      "image/png": "[encoded data removed]",
      "text/plain": [
       "<Figure size 640x480 with 1 Axes>"
      ]
     },
     "metadata": {},
     "output_type": "display_data"
    }
   ],
   "source": [
    "# Plot the full daily time series\n",
    "dir_path = \"../data/processed/\"\n",
    "years = list(range(2011, 2026))\n",
    "\n",
    "df_daily = pd.read_csv(f\"{dir_path}ts_daily{years[0]}-{years[-1]}.csv\")\n",
    "\n",
    "plot_full_ts(df_daily, years)"
   ]
  },
  {
   "cell_type": "markdown",
   "id": "936e7630-c7c5-41bc-a867-7a55a7ea8c46",
   "metadata": {},
   "source": [
    "Interestingly in the above you can seee the sharp dip and slow rise due to COVID. You can also see that yellow taxi numbers haven't yet recovered to their pre COVID numbers."
   ]
  },
  {
   "cell_type": "code",
   "execution_count": 7,
   "id": "9c237d21-d723-4fc0-bcdd-cccdcacacce1",
   "metadata": {},
   "outputs": [
    {
     "data": {
      "image/png": "[encoded data removed]",
      "text/plain": [
       "<Figure size 640x480 with 1 Axes>"
      ]
     },
     "metadata": {},
     "output_type": "display_data"
    },
    {
     "ename": "AttributeError",
     "evalue": "Can only use .dt accessor with datetimelike values",
     "output_type": "error",
     "traceback": [
      "\u001b[31m---------------------------------------------------------------------------\u001b[39m",
      "\u001b[31mAttributeError\u001b[39m                            Traceback (most recent call last)",
      "\u001b[36mCell\u001b[39m\u001b[36m \u001b[39m\u001b[32mIn[7]\u001b[39m\u001b[32m, line 15\u001b[39m\n\u001b[32m     12\u001b[39m df_daily = pd.read_csv(dir_path + file_daily)\n\u001b[32m     14\u001b[39m ts_plots(df_hour, \u001b[33m\"\u001b[39m\u001b[33mhour\u001b[39m\u001b[33m\"\u001b[39m, year, [])\n\u001b[32m---> \u001b[39m\u001b[32m15\u001b[39m \u001b[43mts_plots\u001b[49m\u001b[43m(\u001b[49m\u001b[43mdf_hour\u001b[49m\u001b[43m,\u001b[49m\u001b[43m \u001b[49m\u001b[33;43m\"\u001b[39;49m\u001b[33;43mhour\u001b[39;49m\u001b[33;43m\"\u001b[39;49m\u001b[43m,\u001b[49m\u001b[43m \u001b[49m\u001b[43myear\u001b[49m\u001b[43m,\u001b[49m\u001b[43m \u001b[49m\u001b[43m[\u001b[49m\u001b[32;43m1\u001b[39;49m\u001b[43m,\u001b[49m\u001b[43m \u001b[49m\u001b[32;43m1\u001b[39;49m\u001b[43m]\u001b[49m\u001b[43m)\u001b[49m\n\u001b[32m     16\u001b[39m ts_plots(df_daily, \u001b[33m\"\u001b[39m\u001b[33mdaily\u001b[39m\u001b[33m\"\u001b[39m, year, [])\n",
      "\u001b[36mFile \u001b[39m\u001b[32mC:\\Coding\\Data_Science\\Projects_Summer_2025\\NYC_Taxis\\src\\jfk_taxis\\data_processing.py:180\u001b[39m, in \u001b[36mts_plots\u001b[39m\u001b[34m(df, feature, year, month)\u001b[39m\n\u001b[32m    177\u001b[39m \u001b[38;5;28;01melif\u001b[39;00m feature == \u001b[33m\"\u001b[39m\u001b[33mhour\u001b[39m\u001b[33m\"\u001b[39m:\n\u001b[32m    178\u001b[39m     \u001b[38;5;66;03m# Create a subset using month:\u001b[39;00m\n\u001b[32m    179\u001b[39m     \u001b[38;5;28;01mif\u001b[39;00m \u001b[38;5;28mlen\u001b[39m(month) != \u001b[32m0\u001b[39m:\n\u001b[32m--> \u001b[39m\u001b[32m180\u001b[39m         df = df[\u001b[43mdf\u001b[49m\u001b[43m[\u001b[49m\u001b[33;43m\"\u001b[39;49m\u001b[33;43mdt\u001b[39;49m\u001b[33;43m\"\u001b[39;49m\u001b[43m]\u001b[49m\u001b[43m.\u001b[49m\u001b[43mdt\u001b[49m.month.isin([month[\u001b[32m0\u001b[39m], month[\u001b[32m1\u001b[39m]])]\n\u001b[32m    183\u001b[39m     ax = sns.lineplot(data = df, x = \u001b[33m\"\u001b[39m\u001b[33mdt\u001b[39m\u001b[33m\"\u001b[39m, y = \u001b[33m\"\u001b[39m\u001b[33mtrips\u001b[39m\u001b[33m\"\u001b[39m)\n\u001b[32m    184\u001b[39m     ax.set(title = \u001b[33mf\u001b[39m\u001b[33m\"\u001b[39m\u001b[33mJFK Airport hourly Yellow taxi trips - \u001b[39m\u001b[38;5;132;01m{\u001b[39;00myear\u001b[38;5;132;01m}\u001b[39;00m\u001b[33m\"\u001b[39m, xlabel = \u001b[33m\"\u001b[39m\u001b[33m\"\u001b[39m, ylabel = \u001b[33m\"\u001b[39m\u001b[33mTrips\u001b[39m\u001b[33m\"\u001b[39m)\n",
      "\u001b[36mFile \u001b[39m\u001b[32m~\\miniconda3\\envs\\datasci\\Lib\\site-packages\\pandas\\core\\generic.py:6318\u001b[39m, in \u001b[36mNDFrame.__getattr__\u001b[39m\u001b[34m(self, name)\u001b[39m\n\u001b[32m   6311\u001b[39m \u001b[38;5;28;01mif\u001b[39;00m (\n\u001b[32m   6312\u001b[39m     name \u001b[38;5;129;01mnot\u001b[39;00m \u001b[38;5;129;01min\u001b[39;00m \u001b[38;5;28mself\u001b[39m._internal_names_set\n\u001b[32m   6313\u001b[39m     \u001b[38;5;129;01mand\u001b[39;00m name \u001b[38;5;129;01mnot\u001b[39;00m \u001b[38;5;129;01min\u001b[39;00m \u001b[38;5;28mself\u001b[39m._metadata\n\u001b[32m   6314\u001b[39m     \u001b[38;5;129;01mand\u001b[39;00m name \u001b[38;5;129;01mnot\u001b[39;00m \u001b[38;5;129;01min\u001b[39;00m \u001b[38;5;28mself\u001b[39m._accessors\n\u001b[32m   6315\u001b[39m     \u001b[38;5;129;01mand\u001b[39;00m \u001b[38;5;28mself\u001b[39m._info_axis._can_hold_identifiers_and_holds_name(name)\n\u001b[32m   6316\u001b[39m ):\n\u001b[32m   6317\u001b[39m     \u001b[38;5;28;01mreturn\u001b[39;00m \u001b[38;5;28mself\u001b[39m[name]\n\u001b[32m-> \u001b[39m\u001b[32m6318\u001b[39m \u001b[38;5;28;01mreturn\u001b[39;00m \u001b[38;5;28;43mobject\u001b[39;49m\u001b[43m.\u001b[49m\u001b[34;43m__getattribute__\u001b[39;49m\u001b[43m(\u001b[49m\u001b[38;5;28;43mself\u001b[39;49m\u001b[43m,\u001b[49m\u001b[43m \u001b[49m\u001b[43mname\u001b[49m\u001b[43m)\u001b[49m\n",
      "\u001b[36mFile \u001b[39m\u001b[32m~\\miniconda3\\envs\\datasci\\Lib\\site-packages\\pandas\\core\\accessor.py:224\u001b[39m, in \u001b[36mCachedAccessor.__get__\u001b[39m\u001b[34m(self, obj, cls)\u001b[39m\n\u001b[32m    221\u001b[39m \u001b[38;5;28;01mif\u001b[39;00m obj \u001b[38;5;129;01mis\u001b[39;00m \u001b[38;5;28;01mNone\u001b[39;00m:\n\u001b[32m    222\u001b[39m     \u001b[38;5;66;03m# we're accessing the attribute of the class, i.e., Dataset.geo\u001b[39;00m\n\u001b[32m    223\u001b[39m     \u001b[38;5;28;01mreturn\u001b[39;00m \u001b[38;5;28mself\u001b[39m._accessor\n\u001b[32m--> \u001b[39m\u001b[32m224\u001b[39m accessor_obj = \u001b[38;5;28;43mself\u001b[39;49m\u001b[43m.\u001b[49m\u001b[43m_accessor\u001b[49m\u001b[43m(\u001b[49m\u001b[43mobj\u001b[49m\u001b[43m)\u001b[49m\n\u001b[32m    225\u001b[39m \u001b[38;5;66;03m# Replace the property with the accessor object. Inspired by:\u001b[39;00m\n\u001b[32m    226\u001b[39m \u001b[38;5;66;03m# https://www.pydanny.com/cached-property.html\u001b[39;00m\n\u001b[32m    227\u001b[39m \u001b[38;5;66;03m# We need to use object.__setattr__ because we overwrite __setattr__ on\u001b[39;00m\n\u001b[32m    228\u001b[39m \u001b[38;5;66;03m# NDFrame\u001b[39;00m\n\u001b[32m    229\u001b[39m \u001b[38;5;28mobject\u001b[39m.\u001b[34m__setattr__\u001b[39m(obj, \u001b[38;5;28mself\u001b[39m._name, accessor_obj)\n",
      "\u001b[36mFile \u001b[39m\u001b[32m~\\miniconda3\\envs\\datasci\\Lib\\site-packages\\pandas\\core\\indexes\\accessors.py:643\u001b[39m, in \u001b[36mCombinedDatetimelikeProperties.__new__\u001b[39m\u001b[34m(cls, data)\u001b[39m\n\u001b[32m    640\u001b[39m \u001b[38;5;28;01melif\u001b[39;00m \u001b[38;5;28misinstance\u001b[39m(data.dtype, PeriodDtype):\n\u001b[32m    641\u001b[39m     \u001b[38;5;28;01mreturn\u001b[39;00m PeriodProperties(data, orig)\n\u001b[32m--> \u001b[39m\u001b[32m643\u001b[39m \u001b[38;5;28;01mraise\u001b[39;00m \u001b[38;5;167;01mAttributeError\u001b[39;00m(\u001b[33m\"\u001b[39m\u001b[33mCan only use .dt accessor with datetimelike values\u001b[39m\u001b[33m\"\u001b[39m)\n",
      "\u001b[31mAttributeError\u001b[39m: Can only use .dt accessor with datetimelike values"
     ]
    }
   ],
   "source": [
    "# Plot the collected time series, we do an hourly plot for the whole year, hourly plot just for Janurary (the [x,y] determines which months to plot between in ts_plots) and a daily plot for the whole year\n",
    "\n",
    "# You can see the effect of the COVID 2020 lockdowns in the data as well\n",
    "\n",
    "years = [2011, 2016, 2020, 2025]\n",
    "\n",
    "for year in years:\n",
    "    file_hour = \"ts_hour\" + str(year) + \".csv\"\n",
    "    file_daily = \"ts_daily\" + str(year) + \".csv\"\n",
    "    \n",
    "    df_hour = pd.read_csv(dir_path + file_hour)\n",
    "    df_daily = pd.read_csv(dir_path + file_daily)\n",
    "\n",
    "    ts_plots(df_hour, \"hour\", year, [])\n",
    "    ts_plots(df_hour, \"hour\", year, [1, 1])\n",
    "    ts_plots(df_daily, \"daily\", year, [])\n"
   ]
  },
  {
   "cell_type": "code",
   "execution_count": 4,
   "id": "7529482d-e850-4d97-8e44-273ff672dbcb",
   "metadata": {},
   "outputs": [],
   "source": [
    "df = pd.read_csv(dir_path + \"ts_hour2024.csv\")\n"
   ]
  },
  {
   "cell_type": "code",
   "execution_count": 5,
   "id": "7a47da67-57c0-489d-8b72-ec7af9ae5a7f",
   "metadata": {},
   "outputs": [
    {
     "data": {
      "text/html": [
       "<div>\n",
       "<style scoped>\n",
       "    .dataframe tbody tr th:only-of-type {\n",
       "        vertical-align: middle;\n",
       "    }\n",
       "\n",
       "    .dataframe tbody tr th {\n",
       "        vertical-align: top;\n",
       "    }\n",
       "\n",
       "    .dataframe thead th {\n",
       "        text-align: right;\n",
       "    }\n",
       "</style>\n",
       "<table border=\"1\" class=\"dataframe\">\n",
       "  <thead>\n",
       "    <tr style=\"text-align: right;\">\n",
       "      <th></th>\n",
       "      <th>pickup_date</th>\n",
       "      <th>pickup_hour</th>\n",
       "      <th>trips</th>\n",
       "      <th>dt</th>\n",
       "    </tr>\n",
       "  </thead>\n",
       "  <tbody>\n",
       "    <tr>\n",
       "      <th>0</th>\n",
       "      <td>2024-01-01</td>\n",
       "      <td>0</td>\n",
       "      <td>150</td>\n",
       "      <td>2024-01-01 00:00:00</td>\n",
       "    </tr>\n",
       "    <tr>\n",
       "      <th>1</th>\n",
       "      <td>2024-01-01</td>\n",
       "      <td>1</td>\n",
       "      <td>68</td>\n",
       "      <td>2024-01-01 01:00:00</td>\n",
       "    </tr>\n",
       "    <tr>\n",
       "      <th>2</th>\n",
       "      <td>2024-01-01</td>\n",
       "      <td>2</td>\n",
       "      <td>21</td>\n",
       "      <td>2024-01-01 02:00:00</td>\n",
       "    </tr>\n",
       "    <tr>\n",
       "      <th>3</th>\n",
       "      <td>2024-01-01</td>\n",
       "      <td>3</td>\n",
       "      <td>18</td>\n",
       "      <td>2024-01-01 03:00:00</td>\n",
       "    </tr>\n",
       "    <tr>\n",
       "      <th>4</th>\n",
       "      <td>2024-01-01</td>\n",
       "      <td>4</td>\n",
       "      <td>26</td>\n",
       "      <td>2024-01-01 04:00:00</td>\n",
       "    </tr>\n",
       "  </tbody>\n",
       "</table>\n",
       "</div>"
      ],
      "text/plain": [
       "  pickup_date  pickup_hour  trips                   dt\n",
       "0  2024-01-01            0    150  2024-01-01 00:00:00\n",
       "1  2024-01-01            1     68  2024-01-01 01:00:00\n",
       "2  2024-01-01            2     21  2024-01-01 02:00:00\n",
       "3  2024-01-01            3     18  2024-01-01 03:00:00\n",
       "4  2024-01-01            4     26  2024-01-01 04:00:00"
      ]
     },
     "execution_count": 5,
     "metadata": {},
     "output_type": "execute_result"
    }
   ],
   "source": [
    "df.head()"
   ]
  },
  {
   "cell_type": "code",
   "execution_count": 6,
   "id": "c4820af7-00b2-4690-8e71-65d164d51942",
   "metadata": {},
   "outputs": [
    {
     "data": {
      "text/plain": [
       "pickup_date    object\n",
       "pickup_hour     int64\n",
       "trips           int64\n",
       "dt             object\n",
       "dtype: object"
      ]
     },
     "execution_count": 6,
     "metadata": {},
     "output_type": "execute_result"
    }
   ],
   "source": [
    "df.dtypes"
   ]
  },
  {
   "cell_type": "code",
   "execution_count": null,
   "id": "c32b21bb-bf36-4dd2-b91d-76a865c0423b",
   "metadata": {},
   "outputs": [],
   "source": []
  }
 ],
 "metadata": {
  "kernelspec": {
   "display_name": "Python (datasci)",
   "language": "python",
   "name": "datasci"
  },
  "language_info": {
   "codemirror_mode": {
    "name": "ipython",
    "version": 3
   },
   "file_extension": ".py",
   "mimetype": "text/x-python",
   "name": "python",
   "nbconvert_exporter": "python",
   "pygments_lexer": "ipython3",
   "version": "3.11.13"
  }
 },
 "nbformat": 4,
 "nbformat_minor": 5
}
