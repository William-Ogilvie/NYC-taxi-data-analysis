{
 "cells": [
  {
   "cell_type": "markdown",
   "id": "6910d1ba-9460-4a70-98cb-5e8030074566",
   "metadata": {},
   "source": [
    "## Data Processing\n",
    "\n",
    "In this notebook we will load and process all of the taxi data from 2025 to 2009.\n",
    "\n",
    "The data is stored in data/raw as parquets.\n",
    "\n",
    "It will be saved to data/interim as both parquets and csvs. \n",
    "\n",
    "We will save both the full dataset for each year, as well as the data for JFK and two time series for each year. One for a daily pickup taxi count at JFK and one for an hourly pickup taxi count at JFK (by day by hour).\n",
    "\n",
    "We use our own process_taxi_data function that can be found in src/ This function will also perform some basic data cleaning as well.\n"
   ]
  },
  {
   "cell_type": "code",
   "execution_count": 4,
   "id": "1ecfdece-ee53-40b7-a790-23e8301872ed",
   "metadata": {},
   "outputs": [
    {
     "name": "stdout",
     "output_type": "stream",
     "text": [
      "C:\\Coding\\Data_Science\\Projects_Summer_2025\\NYC_Taxis\\notebooks\n"
     ]
    },
    {
     "ename": "ModuleNotFoundError",
     "evalue": "No module named 'src'",
     "output_type": "error",
     "traceback": [
      "\u001b[31m---------------------------------------------------------------------------\u001b[39m",
      "\u001b[31mModuleNotFoundError\u001b[39m                       Traceback (most recent call last)",
      "\u001b[36mCell\u001b[39m\u001b[36m \u001b[39m\u001b[32mIn[4]\u001b[39m\u001b[32m, line 8\u001b[39m\n\u001b[32m      5\u001b[39m \u001b[38;5;66;03m# Allows us to use src as a package\u001b[39;00m\n\u001b[32m      6\u001b[39m sys.path.append(\u001b[33m\"\u001b[39m\u001b[33m../src\u001b[39m\u001b[33m\"\u001b[39m)\n\u001b[32m----> \u001b[39m\u001b[32m8\u001b[39m \u001b[38;5;28;01mimport\u001b[39;00m\u001b[38;5;250m \u001b[39m\u001b[34;01msrc\u001b[39;00m\n",
      "\u001b[31mModuleNotFoundError\u001b[39m: No module named 'src'"
     ]
    }
   ],
   "source": [
    "import sys, os\n",
    "\n",
    "print(os.getcwd())\n",
    "\n",
    "# Allows us to use src as a package\n",
    "sys.path.append(\"../src\")\n",
    "\n",
    "import src"
   ]
  },
  {
   "cell_type": "code",
   "execution_count": 2,
   "id": "1bbbbebd-bb0d-4b81-ae4d-9aeda7a78e60",
   "metadata": {},
   "outputs": [
    {
     "ename": "ModuleNotFoundError",
     "evalue": "No module named 'src'",
     "output_type": "error",
     "traceback": [
      "\u001b[31m---------------------------------------------------------------------------\u001b[39m",
      "\u001b[31mModuleNotFoundError\u001b[39m                       Traceback (most recent call last)",
      "\u001b[36mCell\u001b[39m\u001b[36m \u001b[39m\u001b[32mIn[2]\u001b[39m\u001b[32m, line 1\u001b[39m\n\u001b[32m----> \u001b[39m\u001b[32m1\u001b[39m \u001b[38;5;28;01mfrom\u001b[39;00m\u001b[38;5;250m \u001b[39m\u001b[34;01msrc\u001b[39;00m\u001b[38;5;250m \u001b[39m\u001b[38;5;28;01mimport\u001b[39;00m process_taxi_data\n\u001b[32m      3\u001b[39m \u001b[38;5;66;03m# We provide a list of years of data to process\u001b[39;00m\n\u001b[32m      4\u001b[39m years = \u001b[38;5;28mlist\u001b[39m(\u001b[38;5;28mrange\u001b[39m(\u001b[32m2009\u001b[39m, \u001b[32m2026\u001b[39m))\n",
      "\u001b[31mModuleNotFoundError\u001b[39m: No module named 'src'"
     ]
    }
   ],
   "source": [
    "from src import process_taxi_data\n",
    "\n",
    "# We provide a list of years of data to process\n",
    "years = list(range(2009, 2026))"
   ]
  },
  {
   "cell_type": "code",
   "execution_count": null,
   "id": "4842890b-d5eb-4af5-a86c-89caecdf234e",
   "metadata": {},
   "outputs": [],
   "source": []
  }
 ],
 "metadata": {
  "kernelspec": {
   "display_name": "Python (datasci)",
   "language": "python",
   "name": "datasci"
  },
  "language_info": {
   "codemirror_mode": {
    "name": "ipython",
    "version": 3
   },
   "file_extension": ".py",
   "mimetype": "text/x-python",
   "name": "python",
   "nbconvert_exporter": "python",
   "pygments_lexer": "ipython3",
   "version": "3.11.13"
  }
 },
 "nbformat": 4,
 "nbformat_minor": 5
}
